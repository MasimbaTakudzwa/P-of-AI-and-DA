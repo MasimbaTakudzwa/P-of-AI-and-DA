{
  "cells": [
    {
      "cell_type": "markdown",
      "metadata": {
        "id": "view-in-github",
        "colab_type": "text"
      },
      "source": [
        "<a href=\"https://colab.research.google.com/github/MasimbaTakudzwa/P-of-AI-and-DA/blob/assignment_branch/Principles%20Of%20AI%20and%20DA%20Assignment/Assignment.ipynb\" target=\"_parent\"><img src=\"https://colab.research.google.com/assets/colab-badge.svg\" alt=\"Open In Colab\"/></a>"
      ]
    },
    {
      "cell_type": "markdown",
      "source": [
        "# Titanic Dataset\n",
        "\n",
        "## Overview\n",
        "The Titanic dataset is one of the most famous datasets for practicing binary classification and data exploration. It provides information about the passengers of the RMS Titanic, which sank on its maiden voyage in 1912.\n",
        "\n",
        "## Dataset Information\n",
        "The dataset includes the following key features:\n",
        "\n",
        "| Column Name       | Description                                                                                 |\n",
        "|-------------------|---------------------------------------------------------------------------------------------|\n",
        "| **PassengerId**   | Unique identifier for each passenger.                                                      |\n",
        "| **Survived**      | Binary indicator of survival: `1` = survived, `0` = did not survive (target variable).      |\n",
        "| **Pclass**        | Passenger's class: `1` = 1st, `2` = 2nd, `3` = 3rd class.                                  |\n",
        "| **Name**          | Full name of the passenger.                                                                |\n",
        "| **Sex**           | Gender of the passenger (`male` or `female`).                                              |\n",
        "| **Age**           | Age of the passenger (in years).                                                           |\n",
        "| **SibSp**         | Number of siblings/spouses aboard the Titanic with the passenger.                          |\n",
        "| **Parch**         | Number of parents/children aboard the Titanic with the passenger.                          |\n",
        "| **Ticket**        | Ticket number.                                                                             |\n",
        "| **Fare**          | Ticket price (in British pounds).                                                          |\n",
        "| **Cabin**         | Cabin number (if known).                                                                   |\n",
        "| **Embarked**      | Port of embarkation: `C` = Cherbourg, `Q` = Queenstown, `S` = Southampton.                 |\n",
        "\n",
        "## Key Insights for Analysis\n",
        "1. **Survival Rate Analysis**:\n",
        "   - What factors influenced survival? E.g., gender, age, class.\n",
        "   - Women and children are hypothesized to have higher survival rates (\"Women and children first\").\n",
        "\n",
        "2. **Socioeconomic Status**:\n",
        "   - Does passenger class (`Pclass`) correlate with survival?\n",
        "   - Higher-class passengers often had better access to lifeboats.\n",
        "\n",
        "3. **Family Connections**:\n",
        "   - Does traveling with family (siblings, spouses, parents, children) improve survival odds?\n",
        "\n",
        "4. **Embarkation and Fare**:\n",
        "   - Were survival rates affected by the port of embarkation or the ticket fare?\n",
        "\n",
        "## Challenges\n",
        "- Missing data in `Age` and `Cabin` columns.\n",
        "- Need to preprocess data (e.g., encode categorical variables like `Sex` and `Embarked`).\n",
        "\n",
        "## Useful Links\n",
        "- Kaggle Titanic Dataset: [https://www.kaggle.com/c/titanic/data](https://www.kaggle.com/c/titanic/data)\n",
        "\n",
        "---\n",
        "\n",
        "# Breast Cancer Dataset\n",
        "\n",
        "## Overview\n",
        "The Breast Cancer dataset is widely used for practicing binary classification. It focuses on predicting whether a tumor is **malignant** or **benign** based on various features derived from medical imaging.\n",
        "\n",
        "## Dataset Information\n",
        "The dataset includes the following key features:\n",
        "\n",
        "| Column Name           | Description                                                                                          |\n",
        "|-----------------------|------------------------------------------------------------------------------------------------------|\n",
        "| **ID**                | Unique identifier for each sample.                                                                  |\n",
        "| **Diagnosis**         | Target variable: `M` = malignant, `B` = benign.                                                     |\n",
        "| **Radius_mean**       | Mean of the distances from the center to points on the perimeter.                                   |\n",
        "| **Texture_mean**      | Standard deviation of gray-scale values.                                                            |\n",
        "| **Perimeter_mean**    | Mean size of the tumor's perimeter.                                                                 |\n",
        "| **Area_mean**         | Mean area of the tumor.                                                                             |\n",
        "| **Smoothness_mean**   | Mean smoothness (local variation in radius lengths).                                                |\n",
        "| **Compactness_mean**  | Mean compactness (perimeter² / area - 1.0).                                                         |\n",
        "| **Concavity_mean**    | Mean severity of concave portions of the tumor contour.                                             |\n",
        "| **Symmetry_mean**     | Mean symmetry of the tumor.                                                                         |\n",
        "| **Fractal_dimension_mean** | Mean of fractal dimension (\"coastline approximation\" - 1).                                     |\n",
        "| **...**               | Similar features are provided for standard deviation (`_se`) and worst measurements (`_worst`).     |\n",
        "\n",
        "## Key Insights for Analysis\n",
        "1. **Predictive Modeling**:\n",
        "   - Can we accurately classify tumors as benign or malignant based on the features?\n",
        "   - Focus on high-importance features like `Radius_mean`, `Area_mean`, and `Compactness_mean`.\n",
        "\n",
        "2. **Exploratory Analysis**:\n",
        "   - Visualize differences in features between benign and malignant tumors.\n",
        "   - Check for correlations between features.\n",
        "\n",
        "3. **Feature Engineering**:\n",
        "   - Normalize or scale the data for algorithms sensitive to feature magnitudes.\n",
        "   - Reduce dimensionality using techniques like PCA (Principal Component Analysis).\n",
        "\n",
        "4. **Evaluation Metrics**:\n",
        "   - Use precision, recall, F1-score, and ROC-AUC to evaluate model performance.\n",
        "\n",
        "## Challenges\n",
        "- The dataset is already clean but may require feature selection or dimensionality reduction.\n",
        "- Balancing the classes (`M` and `B`) if there's an imbalance.\n",
        "\n",
        "## Useful Links\n",
        "- Kaggle Breast Cancer Dataset: [https://www.kaggle.com/uciml/breast-cancer-wisconsin-data](https://www.kaggle.com/uciml/breast-cancer-wisconsin-data)\n"
      ],
      "metadata": {
        "id": "hticoBYv_3tB"
      }
    },
    {
      "cell_type": "code",
      "execution_count": null,
      "metadata": {
        "id": "E_oyx-FP_VTk",
        "outputId": "d3fa1d38-37d6-41ed-e5f3-699f65c15861"
      },
      "outputs": [
        {
          "name": "stdout",
          "output_type": "stream",
          "text": [
            "Hello World\n"
          ]
        }
      ],
      "source": [
        "print(\"Hello World\")"
      ]
    }
  ],
  "metadata": {
    "kernelspec": {
      "display_name": "Python 3",
      "language": "python",
      "name": "python3"
    },
    "language_info": {
      "codemirror_mode": {
        "name": "ipython",
        "version": 3
      },
      "file_extension": ".py",
      "mimetype": "text/x-python",
      "name": "python",
      "nbconvert_exporter": "python",
      "pygments_lexer": "ipython3",
      "version": "3.13.0"
    },
    "colab": {
      "provenance": [],
      "include_colab_link": true
    }
  },
  "nbformat": 4,
  "nbformat_minor": 0
}