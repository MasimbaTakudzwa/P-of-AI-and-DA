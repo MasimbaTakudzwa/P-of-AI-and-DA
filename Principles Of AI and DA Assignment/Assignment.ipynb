{
  "cells": [
    {
      "cell_type": "markdown",
      "source": [
        "# Titanic Dataset\n",
        "\n",
        "## Overview\n",
        "The Titanic dataset is one of the most famous datasets for practicing binary classification and data exploration. It provides information about the passengers of the RMS Titanic, which sank on its maiden voyage in 1912.\n",
        "\n",
        "## Dataset Information\n",
        "The dataset includes the following key features:\n",
        "\n",
        "| Column Name       | Description                                                                                 |\n",
        "|-------------------|---------------------------------------------------------------------------------------------|\n",
        "| **PassengerId**   | Unique identifier for each passenger.                                                      |\n",
        "| **Survived**      | Binary indicator of survival: `1` = survived, `0` = did not survive (target variable).      |\n",
        "| **Pclass**        | Passenger's class: `1` = 1st, `2` = 2nd, `3` = 3rd class.                                  |\n",
        "| **Name**          | Full name of the passenger.                                                                |\n",
        "| **Sex**           | Gender of the passenger (`male` or `female`).                                              |\n",
        "| **Age**           | Age of the passenger (in years).                                                           |\n",
        "| **SibSp**         | Number of siblings/spouses aboard the Titanic with the passenger.                          |\n",
        "| **Parch**         | Number of parents/children aboard the Titanic with the passenger.                          |\n",
        "| **Ticket**        | Ticket number.                                                                             |\n",
        "| **Fare**          | Ticket price (in British pounds).                                                          |\n",
        "| **Cabin**         | Cabin number (if known).                                                                   |\n",
        "| **Embarked**      | Port of embarkation: `C` = Cherbourg, `Q` = Queenstown, `S` = Southampton.                 |\n",
        "\n",
        "## Key Insights for Analysis\n",
        "1. **Survival Rate Analysis**:\n",
        "   - What factors influenced survival? E.g., gender, age, class.\n",
        "   - Women and children are hypothesized to have higher survival rates (\"Women and children first\").\n",
        "\n",
        "2. **Socioeconomic Status**:\n",
        "   - Does passenger class (`Pclass`) correlate with survival?\n",
        "   - Higher-class passengers often had better access to lifeboats.\n",
        "\n",
        "3. **Family Connections**:\n",
        "   - Does traveling with family (siblings, spouses, parents, children) improve survival odds?\n",
        "\n",
        "4. **Embarkation and Fare**:\n",
        "   - Were survival rates affected by the port of embarkation or the ticket fare?\n",
        "\n",
        "## Challenges\n",
        "- Missing data in `Age` and `Cabin` columns.\n",
        "- Need to preprocess data (e.g., encode categorical variables like `Sex` and `Embarked`).\n",
        "\n",
        "## Useful Links\n",
        "- Kaggle Titanic Dataset: [https://www.kaggle.com/c/titanic/data](https://www.kaggle.com/c/titanic/data)\n",
        "\n",
        "---\n",
        "\n",
        "# Breast Cancer Dataset\n",
        "\n",
        "## Overview\n",
        "The Breast Cancer dataset is widely used for practicing binary classification. It focuses on predicting whether a tumor is **malignant** or **benign** based on various features derived from medical imaging.\n",
        "\n",
        "## Dataset Information\n",
        "The dataset includes the following key features:\n",
        "\n",
        "| Column Name           | Description                                                                                          |\n",
        "|-----------------------|------------------------------------------------------------------------------------------------------|\n",
        "| **ID**                | Unique identifier for each sample.                                                                  |\n",
        "| **Diagnosis**         | Target variable: `M` = malignant, `B` = benign.                                                     |\n",
        "| **Radius_mean**       | Mean of the distances from the center to points on the perimeter.                                   |\n",
        "| **Texture_mean**      | Standard deviation of gray-scale values.                                                            |\n",
        "| **Perimeter_mean**    | Mean size of the tumor's perimeter.                                                                 |\n",
        "| **Area_mean**         | Mean area of the tumor.                                                                             |\n",
        "| **Smoothness_mean**   | Mean smoothness (local variation in radius lengths).                                                |\n",
        "| **Compactness_mean**  | Mean compactness (perimeter² / area - 1.0).                                                         |\n",
        "| **Concavity_mean**    | Mean severity of concave portions of the tumor contour.                                             |\n",
        "| **Symmetry_mean**     | Mean symmetry of the tumor.                                                                         |\n",
        "| **Fractal_dimension_mean** | Mean of fractal dimension (\"coastline approximation\" - 1).                                     |\n",
        "| **...**               | Similar features are provided for standard deviation (`_se`) and worst measurements (`_worst`).     |\n",
        "\n",
        "## Key Insights for Analysis\n",
        "1. **Predictive Modeling**:\n",
        "   - Can we accurately classify tumors as benign or malignant based on the features?\n",
        "   - Focus on high-importance features like `Radius_mean`, `Area_mean`, and `Compactness_mean`.\n",
        "\n",
        "2. **Exploratory Analysis**:\n",
        "   - Visualize differences in features between benign and malignant tumors.\n",
        "   - Check for correlations between features.\n",
        "\n",
        "3. **Feature Engineering**:\n",
        "   - Normalize or scale the data for algorithms sensitive to feature magnitudes.\n",
        "   - Reduce dimensionality using techniques like PCA (Principal Component Analysis).\n",
        "\n",
        "4. **Evaluation Metrics**:\n",
        "   - Use precision, recall, F1-score, and ROC-AUC to evaluate model performance.\n",
        "\n",
        "## Challenges\n",
        "- The dataset is already clean but may require feature selection or dimensionality reduction.\n",
        "- Balancing the classes (`M` and `B`) if there's an imbalance.\n",
        "\n",
        "## Useful Links\n",
        "- Kaggle Breast Cancer Dataset: [https://www.kaggle.com/uciml/breast-cancer-wisconsin-data](https://www.kaggle.com/uciml/breast-cancer-wisconsin-data)\n"
      ],
      "metadata": {
        "id": "hticoBYv_3tB"
      }
    },
    {
      "cell_type": "code",
      "execution_count": 1,
      "metadata": {
        "id": "E_oyx-FP_VTk"
      },
      "outputs": [],
      "source": [
        "import pandas as pd\n"
      ]
    },
    {
      "cell_type": "code",
      "source": [
        "genders = pd.read_csv(\"gender_submission.csv\", sep=\",\")\n",
        "tests = pd.read_csv(\"test.csv\", sep=\",\")\n",
        "training = pd.read_csv(\"train.csv\", sep=\",\" )"
      ],
      "metadata": {
        "id": "Pl0069TSFmBw"
      },
      "execution_count": 4,
      "outputs": []
    },
    {
      "cell_type": "code",
      "source": [
        "print(genders.info())\n",
        "print(tests.info())\n",
        "print(training.info())"
      ],
      "metadata": {
        "id": "hWVWNsivHsa6",
        "outputId": "ecabc50f-e5ef-440e-911a-793c64ae9035",
        "colab": {
          "base_uri": "https://localhost:8080/"
        }
      },
      "execution_count": 7,
      "outputs": [
        {
          "output_type": "stream",
          "name": "stdout",
          "text": [
            "<class 'pandas.core.frame.DataFrame'>\n",
            "RangeIndex: 418 entries, 0 to 417\n",
            "Data columns (total 2 columns):\n",
            " #   Column       Non-Null Count  Dtype\n",
            "---  ------       --------------  -----\n",
            " 0   PassengerId  418 non-null    int64\n",
            " 1   Survived     418 non-null    int64\n",
            "dtypes: int64(2)\n",
            "memory usage: 6.7 KB\n",
            "None\n",
            "<class 'pandas.core.frame.DataFrame'>\n",
            "RangeIndex: 418 entries, 0 to 417\n",
            "Data columns (total 11 columns):\n",
            " #   Column       Non-Null Count  Dtype  \n",
            "---  ------       --------------  -----  \n",
            " 0   PassengerId  418 non-null    int64  \n",
            " 1   Pclass       418 non-null    int64  \n",
            " 2   Name         418 non-null    object \n",
            " 3   Sex          418 non-null    object \n",
            " 4   Age          332 non-null    float64\n",
            " 5   SibSp        418 non-null    int64  \n",
            " 6   Parch        418 non-null    int64  \n",
            " 7   Ticket       418 non-null    object \n",
            " 8   Fare         417 non-null    float64\n",
            " 9   Cabin        91 non-null     object \n",
            " 10  Embarked     418 non-null    object \n",
            "dtypes: float64(2), int64(4), object(5)\n",
            "memory usage: 36.0+ KB\n",
            "None\n",
            "<class 'pandas.core.frame.DataFrame'>\n",
            "RangeIndex: 891 entries, 0 to 890\n",
            "Data columns (total 12 columns):\n",
            " #   Column       Non-Null Count  Dtype  \n",
            "---  ------       --------------  -----  \n",
            " 0   PassengerId  891 non-null    int64  \n",
            " 1   Survived     891 non-null    int64  \n",
            " 2   Pclass       891 non-null    int64  \n",
            " 3   Name         891 non-null    object \n",
            " 4   Sex          891 non-null    object \n",
            " 5   Age          714 non-null    float64\n",
            " 6   SibSp        891 non-null    int64  \n",
            " 7   Parch        891 non-null    int64  \n",
            " 8   Ticket       891 non-null    object \n",
            " 9   Fare         891 non-null    float64\n",
            " 10  Cabin        204 non-null    object \n",
            " 11  Embarked     889 non-null    object \n",
            "dtypes: float64(2), int64(5), object(5)\n",
            "memory usage: 83.7+ KB\n",
            "None\n"
          ]
        }
      ]
    },
    {
      "cell_type": "code",
      "source": [
        "training.shape"
      ],
      "metadata": {
        "id": "UnpWlHObH0ES",
        "outputId": "5edab288-014b-4fe4-931b-dbe8c7ce9347",
        "colab": {
          "base_uri": "https://localhost:8080/"
        }
      },
      "execution_count": 8,
      "outputs": [
        {
          "output_type": "execute_result",
          "data": {
            "text/plain": [
              "(891, 12)"
            ]
          },
          "metadata": {},
          "execution_count": 8
        }
      ]
    },
    {
      "cell_type": "code",
      "source": [],
      "metadata": {
        "id": "D9F0sMhgIRDz"
      },
      "execution_count": null,
      "outputs": []
    }
  ],
  "metadata": {
    "kernelspec": {
      "display_name": "Python 3",
      "language": "python",
      "name": "python3"
    },
    "language_info": {
      "codemirror_mode": {
        "name": "ipython",
        "version": 3
      },
      "file_extension": ".py",
      "mimetype": "text/x-python",
      "name": "python",
      "nbconvert_exporter": "python",
      "pygments_lexer": "ipython3",
      "version": "3.13.0"
    },
    "colab": {
      "provenance": []
    }
  },
  "nbformat": 4,
  "nbformat_minor": 0
}