{
 "cells": [
  {
   "cell_type": "markdown",
   "id": "59061b09",
   "metadata": {},
   "source": [
    "# Import necessary libraries"
   ]
  },
  {
   "cell_type": "code",
   "execution_count": null,
   "id": "d6129d0b",
   "metadata": {},
   "outputs": [],
   "source": [
    "import numpy as np\n",
    "import pandas as pd"
   ]
  },
  {
   "cell_type": "markdown",
   "id": "3c97fd39",
   "metadata": {},
   "source": [
    "# 1. Load the Dataset"
   ]
  },
  {
   "cell_type": "markdown",
   "id": "1ee82231",
   "metadata": {},
   "source": [
    "data = pd.read_csv('messy_data.csv', sep=';')"
   ]
  },
  {
   "cell_type": "code",
   "execution_count": null,
   "id": "3e6df51d",
   "metadata": {},
   "outputs": [],
   "source": []
  },
  {
   "cell_type": "code",
   "execution_count": null,
   "id": "132dba61",
   "metadata": {},
   "outputs": [],
   "source": [
    "data.shape"
   ]
  },
  {
   "cell_type": "markdown",
   "id": "ae8f52d3",
   "metadata": {},
   "source": [
    "Display the first few rows to understand the data\n",
    "\n",
    "data.head(10)"
   ]
  },
  {
   "cell_type": "code",
   "execution_count": null,
   "id": "585ccb7c",
   "metadata": {},
   "outputs": [],
   "source": []
  },
  {
   "cell_type": "markdown",
   "id": "2a30fd50",
   "metadata": {},
   "source": [
    "#  2. Handle Missing Values"
   ]
  },
  {
   "cell_type": "markdown",
   "id": "9bf7a5c4",
   "metadata": {},
   "source": [
    "2.1 Identify missing values"
   ]
  },
  {
   "cell_type": "code",
   "execution_count": null,
   "id": "7f4dc7ff",
   "metadata": {},
   "outputs": [],
   "source": [
    "data.isnull().sum()"
   ]
  },
  {
   "cell_type": "markdown",
   "id": "0cd01b47",
   "metadata": {},
   "source": [
    "2.2 Impute missing values (replace with mean for numerical features)\n",
    "\n",
    "data['Age'].fillna(data['Age'].mean(), inplace=True)"
   ]
  },
  {
   "cell_type": "code",
   "execution_count": null,
   "id": "3c5d1379",
   "metadata": {},
   "outputs": [],
   "source": []
  },
  {
   "cell_type": "code",
   "execution_count": null,
   "id": "e491238b",
   "metadata": {},
   "outputs": [],
   "source": [
    "print(data.isnull().sum()) "
   ]
  },
  {
   "cell_type": "code",
   "execution_count": null,
   "id": "1e0c2688",
   "metadata": {},
   "outputs": [],
   "source": [
    "# 2.1 Identify NaN values\n",
    "print(data.isna().sum())"
   ]
  },
  {
   "cell_type": "markdown",
   "id": "263e4243",
   "metadata": {},
   "source": [
    "2.3 Drop rows with missing values (if appropriate)\n",
    "\n",
    "data.dropna(subset=['City', 'Text'], inplace=True)"
   ]
  },
  {
   "cell_type": "code",
   "execution_count": null,
   "id": "9cd08cfa",
   "metadata": {},
   "outputs": [],
   "source": []
  },
  {
   "cell_type": "code",
   "execution_count": null,
   "id": "9b39e9a0",
   "metadata": {},
   "outputs": [],
   "source": [
    "# 2.1 Identify NaN values\n",
    "print(data.isna().sum())"
   ]
  },
  {
   "cell_type": "markdown",
   "id": "fa6914bf",
   "metadata": {},
   "source": [
    "# 3. Correct Data Types"
   ]
  },
  {
   "cell_type": "code",
   "execution_count": null,
   "id": "b81977c9",
   "metadata": {},
   "outputs": [],
   "source": [
    "# 3.1 Convert a column to datetime format\n",
    "data['Date'] = pd.to_datetime(data['Date'])"
   ]
  },
  {
   "cell_type": "code",
   "execution_count": null,
   "id": "49e3c7e2",
   "metadata": {},
   "outputs": [],
   "source": [
    "data.head(10)"
   ]
  },
  {
   "cell_type": "code",
   "execution_count": null,
   "id": "0a0509b1",
   "metadata": {},
   "outputs": [],
   "source": [
    "data.info()"
   ]
  },
  {
   "cell_type": "markdown",
   "id": "2bd3a76e",
   "metadata": {},
   "source": [
    "3.2 Convert a column to numeric\n",
    "\n",
    "data['Date'] = pd.to_numeric(data['Date'])"
   ]
  },
  {
   "cell_type": "code",
   "execution_count": null,
   "id": "fea47457",
   "metadata": {},
   "outputs": [],
   "source": []
  },
  {
   "cell_type": "code",
   "execution_count": null,
   "id": "8c0e34ee",
   "metadata": {},
   "outputs": [],
   "source": [
    "data.info()"
   ]
  },
  {
   "cell_type": "code",
   "execution_count": null,
   "id": "eaa20bb7",
   "metadata": {},
   "outputs": [],
   "source": [
    "data.head()"
   ]
  },
  {
   "cell_type": "markdown",
   "id": "331127ae",
   "metadata": {},
   "source": [
    "duplicated() method to detect dubplicates\n",
    "\n",
    "duplicates = data.duplicated()\n",
    "duplicates"
   ]
  },
  {
   "cell_type": "code",
   "execution_count": null,
   "id": "6e300537",
   "metadata": {},
   "outputs": [],
   "source": []
  },
  {
   "cell_type": "code",
   "execution_count": null,
   "id": "0f347f07",
   "metadata": {},
   "outputs": [],
   "source": [
    "# --- To see the actual duplicate rows:\n",
    "duplicate_rows = data[data.duplicated()]\n",
    "duplicate_rows"
   ]
  },
  {
   "cell_type": "markdown",
   "id": "4d9069ec",
   "metadata": {},
   "source": [
    "#  4. Remove Duplicates "
   ]
  },
  {
   "cell_type": "code",
   "execution_count": null,
   "id": "6a93b4c6",
   "metadata": {},
   "outputs": [],
   "source": [
    "# Identify and remove duplicate rows\n",
    "data.drop_duplicates(inplace=True)"
   ]
  },
  {
   "cell_type": "code",
   "execution_count": null,
   "id": "5c210c00",
   "metadata": {},
   "outputs": [],
   "source": [
    "data.head(10)"
   ]
  },
  {
   "cell_type": "markdown",
   "id": "499a2253",
   "metadata": {},
   "source": [
    "#  5. Clean and Transform Text Data ---\n",
    "\n",
    "## 5.1 Convert text to lowercase\n",
    "\n",
    "data['Text'] = data['Text'].str.lower()"
   ]
  },
  {
   "cell_type": "code",
   "execution_count": null,
   "id": "3768df46",
   "metadata": {},
   "outputs": [],
   "source": []
  },
  {
   "cell_type": "code",
   "execution_count": null,
   "id": "0a628ba3",
   "metadata": {},
   "outputs": [],
   "source": [
    "data.head(10)"
   ]
  },
  {
   "cell_type": "code",
   "execution_count": null,
   "id": "1f76001d",
   "metadata": {},
   "outputs": [],
   "source": [
    "# 5.2 Remove leading/trailing whitespace\n",
    "data['Text'] = data['Text'].str.strip()"
   ]
  },
  {
   "cell_type": "code",
   "execution_count": null,
   "id": "da9ed681",
   "metadata": {},
   "outputs": [],
   "source": [
    "data.head(10)"
   ]
  },
  {
   "cell_type": "code",
   "execution_count": null,
   "id": "67f4996e",
   "metadata": {},
   "outputs": [],
   "source": [
    "# 5.3 Replace specific characters or strings\n",
    "data['Text'] = data['Text'].str.replace('this is fine', 'this is good')"
   ]
  },
  {
   "cell_type": "code",
   "execution_count": null,
   "id": "dd997102",
   "metadata": {},
   "outputs": [],
   "source": [
    "data.head(10)"
   ]
  },
  {
   "cell_type": "markdown",
   "id": "1254489c",
   "metadata": {},
   "source": [
    "#  6. Outlier Detection and Handling "
   ]
  },
  {
   "cell_type": "code",
   "execution_count": null,
   "id": "f49b5bd5",
   "metadata": {},
   "outputs": [],
   "source": [
    "# 6.1 Using boxplots to visualize outliers (requires matplotlib)\n",
    "import matplotlib.pyplot as plt\n",
    "plt.boxplot(data['Income'])\n",
    "plt.show()"
   ]
  },
  {
   "cell_type": "code",
   "execution_count": null,
   "id": "ea7e4d4a",
   "metadata": {},
   "outputs": [],
   "source": [
    "# 6.2  Remove outliers (example: using IQR)\n",
    "Q1 = data['Income'].quantile(0.25)\n",
    "Q3 = data['Income'].quantile(0.75)\n",
    "IQR = Q3 - Q1\n",
    "lower_bound = Q1 - 1.5 * IQR\n",
    "upper_bound = Q3 + 1.5 * IQR\n",
    "data = data[(data['Income'] >= lower_bound) & (data['Income'] <= upper_bound)]"
   ]
  },
  {
   "cell_type": "code",
   "execution_count": null,
   "id": "f8bbe055",
   "metadata": {},
   "outputs": [],
   "source": [
    "plt.boxplot(data['Income'])\n",
    "plt.show()"
   ]
  },
  {
   "cell_type": "markdown",
   "id": "a5105946",
   "metadata": {},
   "source": [
    "#  7. Data Transformation \n"
   ]
  },
  {
   "cell_type": "code",
   "execution_count": null,
   "id": "3eda6301",
   "metadata": {},
   "outputs": [],
   "source": [
    "# 7.1 Scaling numerical features (using MinMaxScaler from scikit-learn)\n",
    "from sklearn.preprocessing import MinMaxScaler\n",
    "scaler = MinMaxScaler()\n",
    "data['Income'] = scaler.fit_transform(data[['Income']])"
   ]
  },
  {
   "cell_type": "code",
   "execution_count": null,
   "id": "90198fb0",
   "metadata": {},
   "outputs": [],
   "source": [
    "plt.boxplot(data['Income'])\n",
    "plt.show()"
   ]
  },
  {
   "cell_type": "markdown",
   "id": "656eb099",
   "metadata": {},
   "source": [
    "# 8. Save the Cleaned Dataset ---\n",
    "\n",
    "data.to_csv('cleaned_dataset.csv', index=False)"
   ]
  },
  {
   "cell_type": "code",
   "execution_count": null,
   "id": "67e8b4aa",
   "metadata": {},
   "outputs": [],
   "source": []
  }
 ],
 "metadata": {
  "kernelspec": {
   "display_name": "Python 3 (ipykernel)",
   "language": "python",
   "name": "python3"
  },
  "language_info": {
   "codemirror_mode": {
    "name": "ipython",
    "version": 3
   },
   "file_extension": ".py",
   "mimetype": "text/x-python",
   "name": "python",
   "nbconvert_exporter": "python",
   "pygments_lexer": "ipython3",
   "version": "3.9.13"
  }
 },
 "nbformat": 4,
 "nbformat_minor": 5
}
