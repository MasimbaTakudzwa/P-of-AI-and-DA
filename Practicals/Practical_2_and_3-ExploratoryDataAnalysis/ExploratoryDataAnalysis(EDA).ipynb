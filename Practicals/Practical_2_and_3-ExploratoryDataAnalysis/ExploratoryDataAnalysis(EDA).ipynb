{
 "cells": [
  {
   "cell_type": "markdown",
   "id": "bebf8737",
   "metadata": {},
   "source": [
    "# Exploratory Data Analysis (EDA) \n",
    "\n",
    "## EDA is the crucial first step in any data analysis project. It involves exploring and visualizing data to:\n",
    "\n",
    "### Understand the data's structure and characteristics.\n",
    "### Identify patterns, trends, and relationships.\n",
    "### Detect outliers and anomalies.\n",
    "### Formulate hypotheses for further analysis.\n",
    "### Prepare the data for modeling."
   ]
  },
  {
   "cell_type": "markdown",
   "id": "d2e15f07",
   "metadata": {},
   "source": [
    "## 1.  Importing neccesary libraries"
   ]
  },
  {
   "cell_type": "code",
   "execution_count": null,
   "id": "3d09d926",
   "metadata": {},
   "outputs": [],
   "source": [
    "import numpy as np\n",
    "import pandas as pd\n",
    "import matplotlib.pyplot as plt\n",
    "import seaborn as sns\n",
    "from mpl_toolkits.mplot3d import Axes3D\n",
    "from sklearn.decomposition import PCA \n",
    "from sklearn.preprocessing import MinMaxScaler, StandardScaler"
   ]
  },
  {
   "cell_type": "markdown",
   "id": "9a2041a1",
   "metadata": {},
   "source": [
    "## 2. Loading and Initial Exploration\n",
    "### Load the dataset: Use Pandas (pd.read_csv() ) to load your data.\n",
    "\n",
    "data = pd.read_csv('winequality-red.csv', sep=';')"
   ]
  },
  {
   "cell_type": "code",
   "execution_count": null,
   "id": "0b0dbe10",
   "metadata": {},
   "outputs": [],
   "source": [
    "# write your code here\n"
   ]
  },
  {
   "cell_type": "markdown",
   "id": "6ba591ed",
   "metadata": {},
   "source": [
    "First look: Use df.head(), df.tail(), df.shape, and df.info() to get an initial overview of the data."
   ]
  },
  {
   "cell_type": "code",
   "execution_count": null,
   "id": "ff561375",
   "metadata": {},
   "outputs": [],
   "source": [
    "# write your code here\n"
   ]
  },
  {
   "cell_type": "code",
   "execution_count": null,
   "id": "db8777d8",
   "metadata": {},
   "outputs": [],
   "source": [
    "# write your code here\n"
   ]
  },
  {
   "cell_type": "code",
   "execution_count": null,
   "id": "71ac1dd5",
   "metadata": {},
   "outputs": [],
   "source": [
    "# write your code here\n"
   ]
  },
  {
   "cell_type": "code",
   "execution_count": null,
   "id": "9d0f09d8",
   "metadata": {},
   "outputs": [],
   "source": [
    "# write your code here\n"
   ]
  },
  {
   "cell_type": "code",
   "execution_count": null,
   "id": "ea64d4b7",
   "metadata": {},
   "outputs": [],
   "source": [
    "# Discuss the outcome "
   ]
  },
  {
   "cell_type": "markdown",
   "id": "46fe668e",
   "metadata": {},
   "source": [
    "Summary statistics: Use df.describe() to get descriptive statistics (mean, median, quartiles, etc.) for numerical columns."
   ]
  },
  {
   "cell_type": "code",
   "execution_count": null,
   "id": "e69d58f9",
   "metadata": {},
   "outputs": [],
   "source": [
    "# write your code here\n"
   ]
  },
  {
   "cell_type": "markdown",
   "id": "506b5f62",
   "metadata": {},
   "source": [
    "## 3. Univariate Analysis"
   ]
  },
  {
   "cell_type": "markdown",
   "id": "b3da3b23",
   "metadata": {},
   "source": [
    "Histograms: Visualize the distribution of numerical data using plt.hist().\n",
    "\n",
    "plt.hist(data['fixed acidity'])\n",
    "\n",
    "plt.xlabel('Fixed Acidity')\n",
    "\n",
    "plt.ylabel('Frequency')\n",
    "\n",
    "plt.title('Distribution of Fixed Acidity')\n",
    "\n",
    "plt.show()"
   ]
  },
  {
   "cell_type": "code",
   "execution_count": null,
   "id": "0d883ec4",
   "metadata": {},
   "outputs": [],
   "source": [
    "# write your code here\n",
    "\n"
   ]
  },
  {
   "cell_type": "markdown",
   "id": "849978ed",
   "metadata": {},
   "source": [
    "Box plots: Identify the median, quartiles, and potential outliers using plt.boxplot() or sns.boxplot().\n"
   ]
  },
  {
   "cell_type": "code",
   "execution_count": null,
   "id": "709eb549",
   "metadata": {},
   "outputs": [],
   "source": [
    "plt.figure(figsize=(8, 6)) \n",
    "plt.boxplot(data['alcohol'])\n",
    "\n",
    "\n",
    "plt.xlabel('Alcohol Content')\n",
    "plt.ylabel('Value')\n",
    "plt.title('Box Plot of Alcohol Content in Red Wine')\n",
    "plt.show()"
   ]
  },
  {
   "cell_type": "code",
   "execution_count": null,
   "id": "039a2591",
   "metadata": {},
   "outputs": [],
   "source": [
    "plt.figure(figsize=(8, 6))\n",
    "sns.boxplot(x='quality', y='pH', data=data, notch=True) \n",
    "\n",
    "\n",
    "plt.xlabel('Wine Quality')\n",
    "plt.ylabel('pH Value')\n",
    "plt.title('Box Plot of pH Value by Wine Quality')\n",
    "plt.show()"
   ]
  },
  {
   "cell_type": "markdown",
   "id": "c2e643d6",
   "metadata": {},
   "source": [
    "Bar charts: Explore the frequency of categorical data using plt.bar() or sns.countplot()."
   ]
  },
  {
   "cell_type": "markdown",
   "id": "f7b8f996",
   "metadata": {},
   "source": [
    "# 4. Bivariate Analysis"
   ]
  },
  {
   "cell_type": "markdown",
   "id": "c5f0c370",
   "metadata": {},
   "source": [
    "Scatter plots: Visualize the relationship between two numerical variables using plt.scatter().\n",
    "\n",
    "plt.figure(figsize=(8, 6))\n",
    "\n",
    "plt.scatter(data[''], data[''])\n",
    "\n",
    "plt.xlabel('Fixed Acidity')\n",
    "\n",
    "plt.ylabel('Citric Acid')\n",
    "\n",
    "plt.title('Scatter Plot of Fixed Acidity vs. Citric Acid')\n",
    "\n",
    "plt.show()"
   ]
  },
  {
   "cell_type": "code",
   "execution_count": null,
   "id": "415d1bb0",
   "metadata": {},
   "outputs": [],
   "source": [
    "# write your code here\n",
    "\n"
   ]
  },
  {
   "cell_type": "markdown",
   "id": "27e1e45f",
   "metadata": {},
   "source": [
    "Correlation matrices: Calculate and visualize correlations between multiple numerical variables using df.corr() and sns.heatmap().\n",
    "\n",
    "correlations = data.corr()\n",
    "\n",
    "plt.figure(figsize=(10, 8))\n",
    "\n",
    "sns.heatmap(correlations, annot=True, cmap='coolwarm', fmt=\".2f\")\n",
    "\n",
    "plt.title('Correlation Matrix of Wine Quality Features')\n",
    "\n",
    "plt.show()"
   ]
  },
  {
   "cell_type": "code",
   "execution_count": null,
   "id": "37c16a07",
   "metadata": {},
   "outputs": [],
   "source": [
    "# write your code here\n",
    "\n"
   ]
  },
  {
   "cell_type": "markdown",
   "id": "e901dd4b",
   "metadata": {},
   "source": [
    "Grouped analyses: Use df.groupby() to analyze data within different categories.\n",
    "\n",
    "average_alcohol_by_quality = data.groupby('quality')['alcohol'].mean()\n",
    "\n",
    "print(average_alcohol_by_quality)\n"
   ]
  },
  {
   "cell_type": "code",
   "execution_count": null,
   "id": "e4b28483",
   "metadata": {},
   "outputs": [],
   "source": [
    "# write your code here\n",
    "\n"
   ]
  },
  {
   "cell_type": "markdown",
   "id": "ee7edcba",
   "metadata": {},
   "source": [
    "plt.figure(figsize=(8, 6))\n",
    "\n",
    "average_alcohol_by_quality.plot(kind='bar')\n",
    "\n",
    "plt.xlabel('Wine Quality')\n",
    "\n",
    "plt.ylabel('Average Alcohol Content')\n",
    "\n",
    "plt.title('Average Alcohol Content by Wine Quality')\n",
    "\n",
    "plt.show()"
   ]
  },
  {
   "cell_type": "code",
   "execution_count": null,
   "id": "5f62e88b",
   "metadata": {},
   "outputs": [],
   "source": [
    "# write your code here\n",
    "\n"
   ]
  },
  {
   "cell_type": "markdown",
   "id": "a22bc781",
   "metadata": {},
   "source": [
    "# 5. Multivariate Analysis"
   ]
  },
  {
   "cell_type": "markdown",
   "id": "ed292579",
   "metadata": {},
   "source": [
    "Pair plots: Visualize pairwise relationships between multiple variables using sns.pairplot().\n",
    "===================\n",
    "features = ['fixed acidity', 'volatile acidity', 'citric acid', 'alcohol', 'quality']\n",
    "\n",
    "sns.pairplot(data[features], hue='quality')\n",
    "\n",
    "plt.show()"
   ]
  },
  {
   "cell_type": "code",
   "execution_count": null,
   "id": "ac23f484",
   "metadata": {},
   "outputs": [],
   "source": [
    "# write your code here\n",
    "\n"
   ]
  },
  {
   "cell_type": "markdown",
   "id": "d02d742a",
   "metadata": {},
   "source": [
    "3D plots: Explore relationships in three dimensions."
   ]
  },
  {
   "cell_type": "code",
   "execution_count": null,
   "id": "2ce17d93",
   "metadata": {},
   "outputs": [],
   "source": [
    "fig = plt.figure(figsize=(8, 6))\n",
    "ax = fig.add_subplot(111, projection='3d')\n",
    "\n",
    "# Select three features for the 3D plot\n",
    "x = data['alcohol']\n",
    "y = data['sulphates']\n",
    "z = data['total sulfur dioxide']\n",
    "c = data['quality']  # Color points by quality\n",
    "\n",
    "ax.scatter(x, y, z, c=c, cmap='viridis')\n",
    "ax.set_xlabel('Alcohol')\n",
    "ax.set_ylabel('Sulphates')\n",
    "ax.set_zlabel('Total Sulfur Dioxide')\n",
    "plt.title('3D Scatter Plot of Wine Features')\n",
    "plt.show()"
   ]
  },
  {
   "cell_type": "markdown",
   "id": "64e4fbfc",
   "metadata": {},
   "source": [
    "Dimensionality reduction: Use techniques like Principal Component Analysis (PCA) to reduce the number of variables while preserving important information."
   ]
  },
  {
   "cell_type": "code",
   "execution_count": null,
   "id": "aeb7aeb6",
   "metadata": {},
   "outputs": [],
   "source": [
    "features_for_pca = ['fixed acidity', 'volatile acidity', 'citric acid', 'residual sugar', \n",
    "                    'chlorides', 'free sulfur dioxide', 'total sulfur dioxide', \n",
    "                    'density', 'pH', 'sulphates', 'alcohol'] \n",
    "\n",
    "X = data[features_for_pca]\n",
    "\n",
    "\n",
    "# Apply PCA with 2 components\n",
    "pca = PCA(n_components=2)\n",
    "principal_components = pca.fit_transform(X)\n",
    "pca_df = pd.DataFrame(data=principal_components, columns=['PC1', 'PC2'])\n",
    "\n",
    "# Add the 'quality' column back to the PCA DataFrame for visualization\n",
    "pca_df['quality'] = data['quality']\n",
    "\n",
    "# Visualize the PCA results\n",
    "plt.figure(figsize=(8, 6))\n",
    "sns.scatterplot(x='PC1', y='PC2', hue='quality', data=pca_df, palette='viridis')\n",
    "plt.title('PCA: Wine Quality Dataset')\n",
    "plt.xlabel('Principal Component 1')\n",
    "plt.ylabel('Principal Component 2')\n",
    "plt.show()\n",
    "\n",
    "# Explained variance ratio\n",
    "print(\"Explained Variance Ratio:\", pca.explained_variance_ratio_)"
   ]
  },
  {
   "cell_type": "markdown",
   "id": "447be3ce",
   "metadata": {},
   "source": [
    "# 6. Handling Outliers"
   ]
  },
  {
   "cell_type": "markdown",
   "id": "e9458077",
   "metadata": {},
   "source": [
    "Identification: Use box plots, scatter plots, or statistical methods (e.g., IQR) to identify outliers.\n",
    "\n",
    "\n",
    "numerical_data = data.select_dtypes(include=[np.number])\n",
    "\n",
    "plt.figure(figsize=(15, 10))  \n",
    "\n",
    "sns.boxplot(data=numerical_data, orient=\"h\", palette=\"Set2\") \n",
    "\n",
    "plt.title('Box Plots of All Numerical Variables in Wine Quality Dataset')\n",
    "\n",
    "plt.show()"
   ]
  },
  {
   "cell_type": "code",
   "execution_count": null,
   "id": "7f408e56",
   "metadata": {},
   "outputs": [],
   "source": [
    "# write your code here\n",
    "\n"
   ]
  },
  {
   "cell_type": "markdown",
   "id": "8eef8b74",
   "metadata": {},
   "source": [
    "Identification using IQR"
   ]
  },
  {
   "cell_type": "code",
   "execution_count": null,
   "id": "a25da167",
   "metadata": {},
   "outputs": [],
   "source": [
    "def find_outliers_iqr(data, column):\n",
    "  \"\"\"\n",
    "  Identifies outliers in a DataFrame column using the IQR method.\n",
    "\n",
    "  Args:\n",
    "      data: Pandas DataFrame.\n",
    "      column: Name of the column to check for outliers.\n",
    "\n",
    "  Returns:\n",
    "      A Series of boolean values indicating outliers.\n",
    "  \"\"\"\n",
    "  Q1 = data[column].quantile(0.25)\n",
    "  Q3 = data[column].quantile(0.75)\n",
    "  IQR = Q3 - Q1\n",
    "  lower_bound = Q1 - 1.5 * IQR\n",
    "  upper_bound = Q3 + 1.5 * IQR\n",
    "  return (data[column] < lower_bound) | (data[column] > upper_bound)\n",
    "\n",
    "# --- Identify outliers in all numerical columns ---\n",
    "\n",
    "# Select only the numerical columns\n",
    "numerical_data = data.select_dtypes(include=[np.number])\n",
    "\n",
    "for column in numerical_data.columns:\n",
    "    outliers = find_outliers_iqr(data, column)\n",
    "    print(f\"Number of outliers in '{column}': {outliers.sum()}\")"
   ]
  },
  {
   "cell_type": "markdown",
   "id": "f7b90361",
   "metadata": {},
   "source": [
    "Treatment: Decide whether to remove, transform, or keep outliers based on their nature and the analysis goals."
   ]
  },
  {
   "cell_type": "markdown",
   "id": "ee8c650c",
   "metadata": {},
   "source": [
    "Removing outliers "
   ]
  },
  {
   "cell_type": "code",
   "execution_count": null,
   "id": "83407263",
   "metadata": {},
   "outputs": [],
   "source": [
    "# (Create a copy of the data to avoid modifying the original)\n",
    "wine_data_no_outliers = data.copy()\n",
    "wine_data_no_outliers = wine_data_no_outliers[~outliers]"
   ]
  },
  {
   "cell_type": "markdown",
   "id": "1b3a1a7e",
   "metadata": {},
   "source": [
    "Transforming outliers (e.g., capping)"
   ]
  },
  {
   "cell_type": "code",
   "execution_count": null,
   "id": "748f9b94",
   "metadata": {},
   "outputs": [],
   "source": [
    "# (Create another copy for this method)\n",
    "wine_data_capped = data.copy()\n",
    "upper_cap = data['total sulfur dioxide'].quantile(0.95)  # Cap at 95th percentile\n",
    "wine_data_capped['total sulfur dioxide'] = np.where(\n",
    "    wine_data_capped['total sulfur dioxide'] > upper_cap,\n",
    "    upper_cap,\n",
    "    wine_data_capped['total sulfur dioxide']\n",
    ")"
   ]
  },
  {
   "cell_type": "markdown",
   "id": "fefebacb",
   "metadata": {},
   "source": [
    "Visualize the results"
   ]
  },
  {
   "cell_type": "code",
   "execution_count": null,
   "id": "ba0a1c1a",
   "metadata": {},
   "outputs": [],
   "source": [
    "plt.figure(figsize=(12, 6))\n",
    "\n",
    "plt.subplot(1, 3, 1)\n",
    "sns.histplot(data['total sulfur dioxide'], kde=True)\n",
    "plt.title('Original Data')\n",
    "\n",
    "plt.subplot(1, 3, 2)\n",
    "sns.histplot(wine_data_no_outliers['total sulfur dioxide'], kde=True)\n",
    "plt.title('Outliers Removed')\n",
    "\n",
    "plt.subplot(1, 3, 3)\n",
    "sns.histplot(wine_data_capped['total sulfur dioxide'], kde=True)\n",
    "plt.title('Outliers Capped')\n",
    "\n",
    "plt.tight_layout()\n",
    "plt.show()"
   ]
  },
  {
   "cell_type": "markdown",
   "id": "6f2abfdd",
   "metadata": {},
   "source": [
    "# 6. Normalise the Data"
   ]
  },
  {
   "cell_type": "markdown",
   "id": "8b95cb8d",
   "metadata": {},
   "source": [
    "Min-Max Scaling"
   ]
  },
  {
   "cell_type": "code",
   "execution_count": null,
   "id": "3723346b",
   "metadata": {},
   "outputs": [],
   "source": [
    "features_to_scale = ['fixed acidity', 'volatile acidity', 'citric acid', 'residual sugar', \n",
    "                    'chlorides', 'free sulfur dioxide', 'total sulfur dioxide', \n",
    "                    'density', 'pH', 'sulphates', 'alcohol']\n",
    "\n",
    "X = data[features_to_scale]\n",
    "\n",
    "\n",
    "# Initialize the MinMaxScaler\n",
    "scaler = MinMaxScaler()\n",
    "\n",
    "# Fit and transform the data\n",
    "X_scaled_minmax = scaler.fit_transform(X)\n",
    "\n",
    "# Create a new DataFrame with the scaled data\n",
    "wine_data_minmax = pd.DataFrame(X_scaled_minmax, columns=features_to_scale)"
   ]
  },
  {
   "cell_type": "markdown",
   "id": "3cc4757c",
   "metadata": {},
   "source": [
    "Standard Scaling"
   ]
  },
  {
   "cell_type": "code",
   "execution_count": null,
   "id": "e70c6492",
   "metadata": {},
   "outputs": [],
   "source": [
    "# Initialize the StandardScaler\n",
    "scaler = StandardScaler()\n",
    "\n",
    "# Fit and transform the data\n",
    "X_scaled_standard = scaler.fit_transform(X)\n",
    "\n",
    "# Create a new DataFrame with the scaled data\n",
    "wine_data_standard = pd.DataFrame(X_scaled_standard, columns=features_to_scale)"
   ]
  },
  {
   "cell_type": "markdown",
   "id": "09844381",
   "metadata": {},
   "source": [
    "Print the first few rows of the scaled DataFrames"
   ]
  },
  {
   "cell_type": "code",
   "execution_count": null,
   "id": "66aea5a1",
   "metadata": {},
   "outputs": [],
   "source": [
    "print(\"Min-Max Scaled Data:\")\n",
    "print(wine_data_minmax.head())\n",
    "\n",
    "print(\"\\nStandard Scaled Data:\")\n",
    "print(wine_data_standard.head())"
   ]
  },
  {
   "cell_type": "markdown",
   "id": "67f7ec80",
   "metadata": {},
   "source": [
    "Plot box plots"
   ]
  },
  {
   "cell_type": "code",
   "execution_count": null,
   "id": "8bad8ac4",
   "metadata": {},
   "outputs": [],
   "source": [
    "plt.figure(figsize=(15, 10))\n",
    "\n",
    "# Original Data\n",
    "plt.subplot(1, 3, 1)\n",
    "sns.boxplot(data=data[features_to_scale], orient=\"h\", palette=\"Set2\")\n",
    "plt.title('Original Data')\n",
    "\n",
    "# Min-Max Scaled Data\n",
    "plt.subplot(1, 3, 2)\n",
    "sns.boxplot(data=wine_data_minmax, orient=\"h\", palette=\"Set2\")\n",
    "plt.title('Min-Max Scaled Data')\n",
    "\n",
    "# Standard Scaled Data\n",
    "plt.subplot(1, 3, 3)\n",
    "sns.boxplot(data=wine_data_standard, orient=\"h\", palette=\"Set2\")\n",
    "plt.title('Standard Scaled Data')\n",
    "\n",
    "plt.tight_layout()\n",
    "plt.show()"
   ]
  },
  {
   "cell_type": "code",
   "execution_count": null,
   "id": "72f9308c",
   "metadata": {},
   "outputs": [],
   "source": []
  }
 ],
 "metadata": {
  "kernelspec": {
   "display_name": "Python 3 (ipykernel)",
   "language": "python",
   "name": "python3"
  },
  "language_info": {
   "codemirror_mode": {
    "name": "ipython",
    "version": 3
   },
   "file_extension": ".py",
   "mimetype": "text/x-python",
   "name": "python",
   "nbconvert_exporter": "python",
   "pygments_lexer": "ipython3",
   "version": "3.9.13"
  }
 },
 "nbformat": 4,
 "nbformat_minor": 5
}
